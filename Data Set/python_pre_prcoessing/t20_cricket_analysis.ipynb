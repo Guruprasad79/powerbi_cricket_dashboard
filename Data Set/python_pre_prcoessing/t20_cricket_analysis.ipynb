{
  "nbformat": 4,
  "nbformat_minor": 0,
  "metadata": {
    "colab": {
      "provenance": []
    },
    "kernelspec": {
      "name": "python3",
      "display_name": "Python 3"
    },
    "language_info": {
      "name": "python"
    }
  },
  "cells": [
    {
      "cell_type": "code",
      "execution_count": null,
      "metadata": {
        "id": "CZHsCvnpRiQN"
      },
      "outputs": [],
      "source": []
    },
    {
      "cell_type": "markdown",
      "source": [
        "# Data Pre Processing of T20 Cricket World Cup 2022"
      ],
      "metadata": {
        "id": "53v7xsONT8aT"
      }
    },
    {
      "cell_type": "markdown",
      "source": [
        "* Importing required Libraries such as Pandas, JSON, etc.\n",
        "* Importing ***t20_wc2022_match_results*** json file and\n",
        "converting it to Data Frame."
      ],
      "metadata": {
        "id": "cDn0NwwZRsdT"
      }
    },
    {
      "cell_type": "code",
      "source": [
        "import pandas as pd\n",
        "import json\n",
        "\n",
        "with open(\"/t20_wc2022_match_results.json\") as f:\n",
        "  data = json.load(f)\n",
        "df_match = pd.DataFrame(data[0][\"matchSummary\"])\n",
        "df_match.rename({'scorecard':'match_id'},axis=1,inplace=True)\n",
        "df_match\n",
        "df_match.to_csv(\"dim_match_summary.csv\", index = False)"
      ],
      "metadata": {
        "id": "eL6jt5rgR3rf"
      },
      "execution_count": 1,
      "outputs": []
    },
    {
      "cell_type": "markdown",
      "source": [
        "Creating a dictionary in order to join **df_match** with **df_batting** and **df_bowling** DataFrames"
      ],
      "metadata": {
        "id": "T8sRxK3FO2dd"
      }
    },
    {
      "cell_type": "code",
      "source": [
        "match_id_dict = {}\n",
        "\n",
        "for index,row in df_match.iterrows():\n",
        "  key1 = row[\"team1\"] + \" Vs \" + row[\"team2\"]\n",
        "  key2 = row[\"team2\"] + \" Vs \" + row[\"team1\"]\n",
        "\n",
        "  match_id_dict[key1] = row[\"match_id\"]\n",
        "  match_id_dict[key2] = row[\"match_id\"]\n",
        "\n",
        "match_id_dict"
      ],
      "metadata": {
        "id": "h3VSStJeMUrf"
      },
      "execution_count": null,
      "outputs": []
    },
    {
      "cell_type": "markdown",
      "source": [
        "Importing **t20_wc2022_batting_summary** json file and also performing **data transformation** and **data cleaning**."
      ],
      "metadata": {
        "id": "vKX3-nYhUeJc"
      }
    },
    {
      "cell_type": "code",
      "source": [
        "with open(\"/t20_wc2022_batting_summary.json\") as f:\n",
        "  data = json.load(f)\n",
        "  records = []\n",
        "  for rec in data:\n",
        "    records.extend(rec[\"battingSummary\"])\n",
        "df_batting = pd.DataFrame(records)\n",
        "df_batting[\"out/not_out\"] = df_batting[\"dismissal\"].apply(lambda x: \"out\" if len(x)>0 else \"not_out\")\n",
        "df_batting.drop(\"dismissal\",axis='columns',inplace=True)\n",
        "df_batting[\"batsmanName\"] = df_batting[\"batsmanName\"].apply(lambda x: x.replace(\"†\",\"\"))\n",
        "df_batting[\"match_id\"] = df_batting[\"match\"].map(match_id_dict)\n",
        "df_batting.head()\n",
        "df_batting.to_csv(\"fact_batting_summary.csv\", index = False)"
      ],
      "metadata": {
        "id": "pJUGhyBQUssO"
      },
      "execution_count": 4,
      "outputs": []
    },
    {
      "cell_type": "markdown",
      "source": [
        "Importing **t20_wc2022_bowling_summary** json file"
      ],
      "metadata": {
        "id": "dmvWoKOHQJHK"
      }
    },
    {
      "cell_type": "code",
      "source": [
        "with open(\"/t20_wc2022_bowling_summary.json\") as f:\n",
        "  data = json.load(f)\n",
        "\n",
        "  records = []\n",
        "  for rec in data:\n",
        "    records.extend(rec[\"bowlingSummary\"])\n",
        "\n",
        "df_bowling = pd.DataFrame(records)\n",
        "df_bowling[\"match_id\"] = df_bowling[\"match\"].map(match_id_dict)\n",
        "df_bowling.head(21)\n",
        "df_bowling.to_csv(\"fact_bowling_summary.csv\", index = False)"
      ],
      "metadata": {
        "id": "PyZbT5p_VYjR"
      },
      "execution_count": 5,
      "outputs": []
    },
    {
      "cell_type": "markdown",
      "source": [
        "Importing **t20_wc2022_player_info** json file"
      ],
      "metadata": {
        "id": "zWH2Qf8IRhm2"
      }
    },
    {
      "cell_type": "code",
      "source": [
        "with open(\"/t20_wc2022_player_info.json\") as f:\n",
        "  data = json.load(f)\n",
        "\n",
        "df_player = pd.DataFrame(data)\n",
        "df_player[\"name\"] = df_player[\"name\"].apply(lambda x : x.replace(\"†\",\"\"))\n",
        "df_player.head()\n",
        "df_player.to_csv(\"dim_players_summary.csv\", index = False)"
      ],
      "metadata": {
        "id": "rm8vtTL4RpYe"
      },
      "execution_count": 6,
      "outputs": []
    }
  ]
}